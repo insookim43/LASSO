{
 "cells": [
  {
   "cell_type": "markdown",
   "metadata": {},
   "source": [
    "<h1> Lasso Regression (numpy) </h1>"
   ]
  },
  {
   "cell_type": "markdown",
   "metadata": {},
   "source": [
    "Lasso Regression의 Cost 함수를 최소화해서 가중치를 구하기!"
   ]
  },
  {
   "cell_type": "markdown",
   "metadata": {},
   "source": [
    "Lasso Regression 식이 미분 불가능(absolute value 때문)\n",
    "하기 때문에, gradient descent 대신에 coordinate descent 라는 방법을\n",
    "사용한다.\n",
    "\n",
    "매 iteration에서는 weight i만 제외하고 다른 모든 가중치들은\n",
    "고정값으로 두고, objective를 최소화하는 i를 찾는 방식이다.\n",
    "\n",
    "이 방법으로는 다음 값을 찾게 된다.\n",
    "\n",
    "argmin_{w[i]} [ SUM[ (prediction - output)^2 ] + lambda*( |w[1]| + ... + |w[k]|) ]"
   ]
  },
  {
   "cell_type": "markdown",
   "metadata": {},
   "source": [
    "\n",
    "매 w[i]값을 최적화하는 공식은 다음과 같다.\n",
    "\n",
    "               ┌ (ro[i] + lambda/2)     if ro[i] < -lambda/2 \n",
    "        w[i] = ├ 0                      if -lambda/2 <= ro[i] <= lambda/2 \n",
    "               └ (ro[i] - lambda/2)     if ro[i] > lambda/2 \n",
    "where\n",
    "ro[i] = SUM[ [feature_i]*(output - prediction + w[i]*[feature_i]) ].\n",
    "\n",
    "\n",
    "\n",
    "Note that we do not regularize the weight of the constant feature (intercept) w[0], so, for this weight, the update is simply:\n",
    "\n",
    "w[0] = ro[i]"
   ]
  },
  {
   "cell_type": "code",
   "execution_count": 1,
   "metadata": {},
   "outputs": [],
   "source": [
    "import numpy as np"
   ]
  },
  {
   "cell_type": "code",
   "execution_count": 2,
   "metadata": {},
   "outputs": [],
   "source": [
    "import pandas as pd"
   ]
  },
  {
   "cell_type": "code",
   "execution_count": 3,
   "metadata": {},
   "outputs": [],
   "source": [
    "from sklearn.model_selection import train_test_split\n",
    "from sklearn.datasets import load_boston\n",
    "from sklearn import preprocessing"
   ]
  },
  {
   "cell_type": "code",
   "execution_count": 4,
   "metadata": {},
   "outputs": [],
   "source": [
    "np.random.seed(42)"
   ]
  },
  {
   "cell_type": "code",
   "execution_count": 5,
   "metadata": {},
   "outputs": [],
   "source": [
    "X, y = load_boston(return_X_y=True)\n",
    "\n",
    "X = pd.DataFrame(X)\n",
    "\n",
    "X['constant'] = 1"
   ]
  },
  {
   "cell_type": "code",
   "execution_count": 6,
   "metadata": {},
   "outputs": [
    {
     "data": {
      "text/html": [
       "<div>\n",
       "<style scoped>\n",
       "    .dataframe tbody tr th:only-of-type {\n",
       "        vertical-align: middle;\n",
       "    }\n",
       "\n",
       "    .dataframe tbody tr th {\n",
       "        vertical-align: top;\n",
       "    }\n",
       "\n",
       "    .dataframe thead th {\n",
       "        text-align: right;\n",
       "    }\n",
       "</style>\n",
       "<table border=\"1\" class=\"dataframe\">\n",
       "  <thead>\n",
       "    <tr style=\"text-align: right;\">\n",
       "      <th></th>\n",
       "      <th>0</th>\n",
       "      <th>1</th>\n",
       "      <th>2</th>\n",
       "      <th>3</th>\n",
       "      <th>4</th>\n",
       "      <th>5</th>\n",
       "      <th>6</th>\n",
       "      <th>7</th>\n",
       "      <th>8</th>\n",
       "      <th>9</th>\n",
       "      <th>10</th>\n",
       "      <th>11</th>\n",
       "      <th>12</th>\n",
       "      <th>constant</th>\n",
       "    </tr>\n",
       "  </thead>\n",
       "  <tbody>\n",
       "    <tr>\n",
       "      <th>0</th>\n",
       "      <td>0.00632</td>\n",
       "      <td>18.0</td>\n",
       "      <td>2.31</td>\n",
       "      <td>0.0</td>\n",
       "      <td>0.538</td>\n",
       "      <td>6.575</td>\n",
       "      <td>65.2</td>\n",
       "      <td>4.0900</td>\n",
       "      <td>1.0</td>\n",
       "      <td>296.0</td>\n",
       "      <td>15.3</td>\n",
       "      <td>396.90</td>\n",
       "      <td>4.98</td>\n",
       "      <td>1</td>\n",
       "    </tr>\n",
       "    <tr>\n",
       "      <th>1</th>\n",
       "      <td>0.02731</td>\n",
       "      <td>0.0</td>\n",
       "      <td>7.07</td>\n",
       "      <td>0.0</td>\n",
       "      <td>0.469</td>\n",
       "      <td>6.421</td>\n",
       "      <td>78.9</td>\n",
       "      <td>4.9671</td>\n",
       "      <td>2.0</td>\n",
       "      <td>242.0</td>\n",
       "      <td>17.8</td>\n",
       "      <td>396.90</td>\n",
       "      <td>9.14</td>\n",
       "      <td>1</td>\n",
       "    </tr>\n",
       "    <tr>\n",
       "      <th>2</th>\n",
       "      <td>0.02729</td>\n",
       "      <td>0.0</td>\n",
       "      <td>7.07</td>\n",
       "      <td>0.0</td>\n",
       "      <td>0.469</td>\n",
       "      <td>7.185</td>\n",
       "      <td>61.1</td>\n",
       "      <td>4.9671</td>\n",
       "      <td>2.0</td>\n",
       "      <td>242.0</td>\n",
       "      <td>17.8</td>\n",
       "      <td>392.83</td>\n",
       "      <td>4.03</td>\n",
       "      <td>1</td>\n",
       "    </tr>\n",
       "    <tr>\n",
       "      <th>3</th>\n",
       "      <td>0.03237</td>\n",
       "      <td>0.0</td>\n",
       "      <td>2.18</td>\n",
       "      <td>0.0</td>\n",
       "      <td>0.458</td>\n",
       "      <td>6.998</td>\n",
       "      <td>45.8</td>\n",
       "      <td>6.0622</td>\n",
       "      <td>3.0</td>\n",
       "      <td>222.0</td>\n",
       "      <td>18.7</td>\n",
       "      <td>394.63</td>\n",
       "      <td>2.94</td>\n",
       "      <td>1</td>\n",
       "    </tr>\n",
       "    <tr>\n",
       "      <th>4</th>\n",
       "      <td>0.06905</td>\n",
       "      <td>0.0</td>\n",
       "      <td>2.18</td>\n",
       "      <td>0.0</td>\n",
       "      <td>0.458</td>\n",
       "      <td>7.147</td>\n",
       "      <td>54.2</td>\n",
       "      <td>6.0622</td>\n",
       "      <td>3.0</td>\n",
       "      <td>222.0</td>\n",
       "      <td>18.7</td>\n",
       "      <td>396.90</td>\n",
       "      <td>5.33</td>\n",
       "      <td>1</td>\n",
       "    </tr>\n",
       "    <tr>\n",
       "      <th>...</th>\n",
       "      <td>...</td>\n",
       "      <td>...</td>\n",
       "      <td>...</td>\n",
       "      <td>...</td>\n",
       "      <td>...</td>\n",
       "      <td>...</td>\n",
       "      <td>...</td>\n",
       "      <td>...</td>\n",
       "      <td>...</td>\n",
       "      <td>...</td>\n",
       "      <td>...</td>\n",
       "      <td>...</td>\n",
       "      <td>...</td>\n",
       "      <td>...</td>\n",
       "    </tr>\n",
       "    <tr>\n",
       "      <th>501</th>\n",
       "      <td>0.06263</td>\n",
       "      <td>0.0</td>\n",
       "      <td>11.93</td>\n",
       "      <td>0.0</td>\n",
       "      <td>0.573</td>\n",
       "      <td>6.593</td>\n",
       "      <td>69.1</td>\n",
       "      <td>2.4786</td>\n",
       "      <td>1.0</td>\n",
       "      <td>273.0</td>\n",
       "      <td>21.0</td>\n",
       "      <td>391.99</td>\n",
       "      <td>9.67</td>\n",
       "      <td>1</td>\n",
       "    </tr>\n",
       "    <tr>\n",
       "      <th>502</th>\n",
       "      <td>0.04527</td>\n",
       "      <td>0.0</td>\n",
       "      <td>11.93</td>\n",
       "      <td>0.0</td>\n",
       "      <td>0.573</td>\n",
       "      <td>6.120</td>\n",
       "      <td>76.7</td>\n",
       "      <td>2.2875</td>\n",
       "      <td>1.0</td>\n",
       "      <td>273.0</td>\n",
       "      <td>21.0</td>\n",
       "      <td>396.90</td>\n",
       "      <td>9.08</td>\n",
       "      <td>1</td>\n",
       "    </tr>\n",
       "    <tr>\n",
       "      <th>503</th>\n",
       "      <td>0.06076</td>\n",
       "      <td>0.0</td>\n",
       "      <td>11.93</td>\n",
       "      <td>0.0</td>\n",
       "      <td>0.573</td>\n",
       "      <td>6.976</td>\n",
       "      <td>91.0</td>\n",
       "      <td>2.1675</td>\n",
       "      <td>1.0</td>\n",
       "      <td>273.0</td>\n",
       "      <td>21.0</td>\n",
       "      <td>396.90</td>\n",
       "      <td>5.64</td>\n",
       "      <td>1</td>\n",
       "    </tr>\n",
       "    <tr>\n",
       "      <th>504</th>\n",
       "      <td>0.10959</td>\n",
       "      <td>0.0</td>\n",
       "      <td>11.93</td>\n",
       "      <td>0.0</td>\n",
       "      <td>0.573</td>\n",
       "      <td>6.794</td>\n",
       "      <td>89.3</td>\n",
       "      <td>2.3889</td>\n",
       "      <td>1.0</td>\n",
       "      <td>273.0</td>\n",
       "      <td>21.0</td>\n",
       "      <td>393.45</td>\n",
       "      <td>6.48</td>\n",
       "      <td>1</td>\n",
       "    </tr>\n",
       "    <tr>\n",
       "      <th>505</th>\n",
       "      <td>0.04741</td>\n",
       "      <td>0.0</td>\n",
       "      <td>11.93</td>\n",
       "      <td>0.0</td>\n",
       "      <td>0.573</td>\n",
       "      <td>6.030</td>\n",
       "      <td>80.8</td>\n",
       "      <td>2.5050</td>\n",
       "      <td>1.0</td>\n",
       "      <td>273.0</td>\n",
       "      <td>21.0</td>\n",
       "      <td>396.90</td>\n",
       "      <td>7.88</td>\n",
       "      <td>1</td>\n",
       "    </tr>\n",
       "  </tbody>\n",
       "</table>\n",
       "<p>506 rows × 14 columns</p>\n",
       "</div>"
      ],
      "text/plain": [
       "           0     1      2    3      4      5     6       7    8      9    10  \\\n",
       "0    0.00632  18.0   2.31  0.0  0.538  6.575  65.2  4.0900  1.0  296.0  15.3   \n",
       "1    0.02731   0.0   7.07  0.0  0.469  6.421  78.9  4.9671  2.0  242.0  17.8   \n",
       "2    0.02729   0.0   7.07  0.0  0.469  7.185  61.1  4.9671  2.0  242.0  17.8   \n",
       "3    0.03237   0.0   2.18  0.0  0.458  6.998  45.8  6.0622  3.0  222.0  18.7   \n",
       "4    0.06905   0.0   2.18  0.0  0.458  7.147  54.2  6.0622  3.0  222.0  18.7   \n",
       "..       ...   ...    ...  ...    ...    ...   ...     ...  ...    ...   ...   \n",
       "501  0.06263   0.0  11.93  0.0  0.573  6.593  69.1  2.4786  1.0  273.0  21.0   \n",
       "502  0.04527   0.0  11.93  0.0  0.573  6.120  76.7  2.2875  1.0  273.0  21.0   \n",
       "503  0.06076   0.0  11.93  0.0  0.573  6.976  91.0  2.1675  1.0  273.0  21.0   \n",
       "504  0.10959   0.0  11.93  0.0  0.573  6.794  89.3  2.3889  1.0  273.0  21.0   \n",
       "505  0.04741   0.0  11.93  0.0  0.573  6.030  80.8  2.5050  1.0  273.0  21.0   \n",
       "\n",
       "         11    12  constant  \n",
       "0    396.90  4.98         1  \n",
       "1    396.90  9.14         1  \n",
       "2    392.83  4.03         1  \n",
       "3    394.63  2.94         1  \n",
       "4    396.90  5.33         1  \n",
       "..      ...   ...       ...  \n",
       "501  391.99  9.67         1  \n",
       "502  396.90  9.08         1  \n",
       "503  396.90  5.64         1  \n",
       "504  393.45  6.48         1  \n",
       "505  396.90  7.88         1  \n",
       "\n",
       "[506 rows x 14 columns]"
      ]
     },
     "metadata": {},
     "output_type": "display_data"
    }
   ],
   "source": [
    "display(X)"
   ]
  },
  {
   "cell_type": "code",
   "execution_count": 7,
   "metadata": {},
   "outputs": [],
   "source": [
    "X = X.iloc[0:100,0:5]\n",
    "y = pd.DataFrame(y)\n",
    "y = y.iloc[0:100]\n",
    "\n",
    "X_train, X_test, y_train, y_test = train_test_split(X, y, test_size = 0.3)"
   ]
  },
  {
   "cell_type": "code",
   "execution_count": 8,
   "metadata": {},
   "outputs": [],
   "source": [
    "# def normalize_features(feature_matrix):\n",
    "#     norms = np.linalg.norm(feature_matrix, axis=0)\n",
    "#     normalized_features= feature_matrix/norms\n",
    "#     return (normalized_features, norms)"
   ]
  },
  {
   "cell_type": "code",
   "execution_count": 11,
   "metadata": {},
   "outputs": [
    {
     "name": "stdout",
     "output_type": "stream",
     "text": [
      "[1. 1. 1. 1. 1.]\n"
     ]
    }
   ],
   "source": [
    "\n",
    "scaler = preprocessing.MinMaxScaler().fit(X_train)\n",
    "                                      \n",
    "print(scaler.scale_)                                      \n"
   ]
  },
  {
   "cell_type": "code",
   "execution_count": 12,
   "metadata": {},
   "outputs": [],
   "source": [
    "X_train = pd.DataFrame(scaler.transform(X_train))"
   ]
  },
  {
   "cell_type": "code",
   "execution_count": 13,
   "metadata": {},
   "outputs": [
    {
     "name": "stdout",
     "output_type": "stream",
     "text": [
      "           0      1         2    3         4\n",
      "0   0.064950  0.125  0.498601  0.0  0.900000\n",
      "1   0.134859  0.000  0.431469  0.0  0.357143\n",
      "2   0.027357  0.000  0.262238  0.0  0.364286\n",
      "3   0.474850  0.000  0.517483  0.0  1.000000\n",
      "4   0.009473  0.280  1.000000  0.0  0.471429\n",
      "..       ...    ...       ...  ...       ...\n",
      "65  0.084866  0.250  0.306993  0.0  0.392857\n",
      "66  0.090769  0.000  0.704196  0.0  0.107143\n",
      "67  0.390415  0.000  0.517483  0.0  1.000000\n",
      "68  0.017777  0.280  1.000000  0.0  0.471429\n",
      "69  0.018615  0.210  0.342657  0.0  0.292857\n",
      "\n",
      "[70 rows x 5 columns]\n"
     ]
    }
   ],
   "source": [
    "\n",
    "print(X_train)\n",
    "\n",
    "X_test = pd.DataFrame(scaler.transform(X_test))\n",
    "\n",
    "\n",
    "# add constant\n",
    "\n",
    "X_train = X_train.to_numpy()\n",
    "\n",
    "y_train = y_train.to_numpy()\n",
    "\n",
    "\n",
    "X_test = X_test.to_numpy()\n",
    "\n",
    "y_test = y_test.to_numpy()"
   ]
  },
  {
   "cell_type": "code",
   "execution_count": 14,
   "metadata": {},
   "outputs": [
    {
     "name": "stdout",
     "output_type": "stream",
     "text": [
      "[[6.49504133e-02 1.25000000e-01 4.98601399e-01 0.00000000e+00\n",
      "  9.00000000e-01]\n",
      " [1.34859494e-01 0.00000000e+00 4.31468531e-01 0.00000000e+00\n",
      "  3.57142857e-01]\n",
      " [2.73570866e-02 0.00000000e+00 2.62237762e-01 0.00000000e+00\n",
      "  3.64285714e-01]\n",
      " [4.74850239e-01 0.00000000e+00 5.17482517e-01 0.00000000e+00\n",
      "  1.00000000e+00]\n",
      " [9.47336827e-03 2.80000000e-01 1.00000000e+00 0.00000000e+00\n",
      "  4.71428571e-01]\n",
      " [1.01612036e-02 0.00000000e+00 1.00699301e-01 0.00000000e+00\n",
      "  4.28571429e-01]\n",
      " [1.88779530e-02 8.00000000e-01 1.83916084e-01 0.00000000e+00\n",
      "  0.00000000e+00]\n",
      " [1.39067796e-02 8.00000000e-01 1.83916084e-01 0.00000000e+00\n",
      "  0.00000000e+00]\n",
      " [3.16216656e-02 0.00000000e+00 3.65034965e-01 0.00000000e+00\n",
      "  7.21428571e-01]\n",
      " [6.50523380e-01 0.00000000e+00 5.17482517e-01 0.00000000e+00\n",
      "  1.00000000e+00]\n",
      " [1.28919098e-01 0.00000000e+00 4.31468531e-01 0.00000000e+00\n",
      "  3.57142857e-01]\n",
      " [1.00000000e+00 0.00000000e+00 5.17482517e-01 0.00000000e+00\n",
      "  1.00000000e+00]\n",
      " [8.18836683e-02 1.25000000e-01 4.98601399e-01 0.00000000e+00\n",
      "  9.00000000e-01]\n",
      " [6.78080564e-02 0.00000000e+00 1.50349650e-01 0.00000000e+00\n",
      "  3.35714286e-01]\n",
      " [5.89143457e-01 0.00000000e+00 5.17482517e-01 0.00000000e+00\n",
      "  1.00000000e+00]\n",
      " [4.45342104e-01 0.00000000e+00 5.17482517e-01 0.00000000e+00\n",
      "  1.00000000e+00]\n",
      " [1.93969560e-02 2.50000000e-01 2.88111888e-01 0.00000000e+00\n",
      "  2.00000000e-01]\n",
      " [5.17089581e-01 0.00000000e+00 5.17482517e-01 0.00000000e+00\n",
      "  1.00000000e+00]\n",
      " [6.04482185e-02 2.50000000e-01 3.06993007e-01 0.00000000e+00\n",
      "  3.92857143e-01]\n",
      " [3.85287828e-01 0.00000000e+00 5.17482517e-01 0.00000000e+00\n",
      "  1.00000000e+00]\n",
      " [4.60637061e-01 0.00000000e+00 5.17482517e-01 0.00000000e+00\n",
      "  1.00000000e+00]\n",
      " [1.17369718e-02 0.00000000e+00 1.00699301e-01 0.00000000e+00\n",
      "  4.28571429e-01]\n",
      " [4.81859907e-01 0.00000000e+00 5.17482517e-01 0.00000000e+00\n",
      "  1.00000000e+00]\n",
      " [1.00955466e-01 0.00000000e+00 3.65034965e-01 0.00000000e+00\n",
      "  7.21428571e-01]\n",
      " [1.23585248e-01 1.25000000e-01 4.98601399e-01 0.00000000e+00\n",
      "  9.00000000e-01]\n",
      " [2.68005653e-02 0.00000000e+00 8.45454545e-01 0.00000000e+00\n",
      "  2.78571429e-01]\n",
      " [4.67040182e-02 1.25000000e-01 4.98601399e-01 0.00000000e+00\n",
      "  9.00000000e-01]\n",
      " [3.69555158e-03 1.75000000e-01 4.47552448e-02 0.00000000e+00\n",
      "  1.29285714e-01]\n",
      " [5.24255575e-02 0.00000000e+00 3.65034965e-01 0.00000000e+00\n",
      "  7.21428571e-01]\n",
      " [2.46495166e-02 0.00000000e+00 1.86713287e-01 0.00000000e+00\n",
      "  6.50000000e-01]\n",
      " [4.34586861e-03 8.50000000e-01 0.00000000e+00 0.00000000e+00\n",
      "  8.57142857e-02]\n",
      " [3.43917660e-02 0.00000000e+00 1.50349650e-01 0.00000000e+00\n",
      "  3.35714286e-01]\n",
      " [0.00000000e+00 7.50000000e-01 2.27972028e-01 0.00000000e+00\n",
      "  8.57142857e-02]\n",
      " [9.11444329e-02 0.00000000e+00 4.31468531e-01 0.00000000e+00\n",
      "  3.57142857e-01]\n",
      " [4.69791523e-02 2.10000000e-01 3.42657343e-01 0.00000000e+00\n",
      "  2.92857143e-01]\n",
      " [2.76947512e-02 1.25000000e-01 3.72727273e-01 0.00000000e+00\n",
      "  7.85714286e-02]\n",
      " [1.09278273e-01 0.00000000e+00 4.31468531e-01 0.00000000e+00\n",
      "  3.57142857e-01]\n",
      " [7.62496717e-02 1.25000000e-01 3.72727273e-01 0.00000000e+00\n",
      "  7.85714286e-02]\n",
      " [9.88669476e-02 2.50000000e-01 3.06993007e-01 0.00000000e+00\n",
      "  3.92857143e-01]\n",
      " [6.70514376e-02 0.00000000e+00 1.50349650e-01 0.00000000e+00\n",
      "  3.35714286e-01]\n",
      " [4.39401708e-02 0.00000000e+00 8.45454545e-01 0.00000000e+00\n",
      "  2.78571429e-01]\n",
      " [7.11847025e-02 0.00000000e+00 4.31468531e-01 0.00000000e+00\n",
      "  3.57142857e-01]\n",
      " [8.80741862e-02 2.50000000e-01 3.06993007e-01 0.00000000e+00\n",
      "  3.92857143e-01]\n",
      " [1.50241993e-01 0.00000000e+00 4.31468531e-01 0.00000000e+00\n",
      "  3.57142857e-01]\n",
      " [4.26895612e-02 0.00000000e+00 1.50349650e-01 0.00000000e+00\n",
      "  3.35714286e-01]\n",
      " [4.50219482e-04 1.00000000e+00 4.05594406e-02 0.00000000e+00\n",
      "  9.28571429e-02]\n",
      " [5.09748502e-02 0.00000000e+00 8.45454545e-01 0.00000000e+00\n",
      "  2.78571429e-01]\n",
      " [8.59412714e-01 0.00000000e+00 5.17482517e-01 0.00000000e+00\n",
      "  1.00000000e+00]\n",
      " [1.83464439e-02 2.80000000e-01 1.00000000e+00 0.00000000e+00\n",
      "  4.71428571e-01]\n",
      " [5.60773377e-02 2.50000000e-01 3.06993007e-01 0.00000000e+00\n",
      "  3.92857143e-01]\n",
      " [7.05969160e-02 2.50000000e-01 3.06993007e-01 0.00000000e+00\n",
      "  3.92857143e-01]\n",
      " [2.31300259e-02 0.00000000e+00 2.62237762e-01 0.00000000e+00\n",
      "  3.64285714e-01]\n",
      " [4.16077838e-02 0.00000000e+00 3.65034965e-01 0.00000000e+00\n",
      "  7.21428571e-01]\n",
      " [6.18332687e-01 0.00000000e+00 5.17482517e-01 0.00000000e+00\n",
      "  1.00000000e+00]\n",
      " [8.57292930e-03 0.00000000e+00 4.42657343e-01 0.00000000e+00\n",
      "  5.07142857e-01]\n",
      " [2.50121934e-02 2.10000000e-01 3.42657343e-01 0.00000000e+00\n",
      "  2.92857143e-01]\n",
      " [5.24280587e-01 0.00000000e+00 5.17482517e-01 0.00000000e+00\n",
      "  1.00000000e+00]\n",
      " [8.56042321e-03 0.00000000e+00 4.42657343e-01 0.00000000e+00\n",
      "  5.07142857e-01]\n",
      " [6.09565913e-01 0.00000000e+00 5.17482517e-01 0.00000000e+00\n",
      "  1.00000000e+00]\n",
      " [3.62114031e-02 0.00000000e+00 2.62237762e-01 0.00000000e+00\n",
      "  3.64285714e-01]\n",
      " [1.60828404e-02 0.00000000e+00 1.86713287e-01 0.00000000e+00\n",
      "  6.50000000e-01]\n",
      " [4.08699241e-02 0.00000000e+00 8.45454545e-01 0.00000000e+00\n",
      "  2.78571429e-01]\n",
      " [2.39366691e-02 0.00000000e+00 2.62237762e-01 0.00000000e+00\n",
      "  3.64285714e-01]\n",
      " [1.43757582e-02 2.50000000e-01 2.88111888e-01 0.00000000e+00\n",
      "  2.00000000e-01]\n",
      " [7.74246195e-01 0.00000000e+00 5.17482517e-01 0.00000000e+00\n",
      "  1.00000000e+00]\n",
      " [8.48663724e-02 2.50000000e-01 3.06993007e-01 0.00000000e+00\n",
      "  3.92857143e-01]\n",
      " [9.07692500e-02 0.00000000e+00 7.04195804e-01 0.00000000e+00\n",
      "  1.07142857e-01]\n",
      " [3.90415327e-01 0.00000000e+00 5.17482517e-01 0.00000000e+00\n",
      "  1.00000000e+00]\n",
      " [1.77774165e-02 2.80000000e-01 1.00000000e+00 0.00000000e+00\n",
      "  4.71428571e-01]\n",
      " [1.86153250e-02 2.10000000e-01 3.42657343e-01 0.00000000e+00\n",
      "  2.92857143e-01]]\n"
     ]
    }
   ],
   "source": [
    "print(X_train)"
   ]
  },
  {
   "cell_type": "code",
   "execution_count": 15,
   "metadata": {},
   "outputs": [],
   "source": [
    "# def get_numpy_data(data_sframe, features, output):\n",
    "#     data_sframe['constant'] = 1 # this is how you add a constant column to an SFrame\n",
    "#     # add the column 'constant' to the front of the features list so that we can extract it along with the others:\n",
    "#     features = ['constant'] + features # this is how you combine two lists\n",
    "#     # select the columns of data_SFrame given by the features list into the SFrame features_sframe (now including constant):\n",
    "#     features_sframe = data_sframe[features]  \n",
    "#     # the following line will convert the features_SFrame into a numpy matrix:\n",
    "#     feature_matrix = features_sframe.to_numpy()\n",
    "#     # assign the column of data_sframe associated with the output to the SArray output_sarray\n",
    "#     output_sarray = data_sframe['price'] \n",
    "#     # the following will convert the SArray into a numpy array by first converting it to a list\n",
    "#     output_array = output_sarray.to_numpy()\n",
    "#     return(feature_matrix, output_array)"
   ]
  },
  {
   "cell_type": "code",
   "execution_count": 16,
   "metadata": {},
   "outputs": [
    {
     "data": {
      "text/plain": [
       "(70, 5)"
      ]
     },
     "execution_count": 16,
     "metadata": {},
     "output_type": "execute_result"
    }
   ],
   "source": [
    "X_train.shape"
   ]
  },
  {
   "cell_type": "code",
   "execution_count": 17,
   "metadata": {},
   "outputs": [],
   "source": [
    "\n",
    "def predict_output(feature_matrix, weights):\n",
    "    # assume feature_matrix is a numpy matrix containing the features as columns and weights is a corresponding numpy array\n",
    "    # create the predictions vector by using np.dot()\n",
    "    predictions = np.dot(feature_matrix,weights)\n",
    "    return(predictions)"
   ]
  },
  {
   "cell_type": "code",
   "execution_count": null,
   "metadata": {},
   "outputs": [],
   "source": []
  },
  {
   "cell_type": "markdown",
   "metadata": {},
   "source": [
    "# Assign some initial weight"
   ]
  },
  {
   "cell_type": "code",
   "execution_count": 18,
   "metadata": {},
   "outputs": [
    {
     "data": {
      "text/plain": [
       "array([1.71355181, 0.92347088, 0.65388056, 1.99233276, 2.04090194,\n",
       "       0.53943193, 1.80279404, 1.79782286, 1.1180852 , 2.1680059 ,\n",
       "       0.91753049, 2.51748252, 1.73048507, 0.55387199, 2.10662597,\n",
       "       1.96282462, 1.00750884, 2.0345721 , 1.26029837, 1.90277035,\n",
       "       1.97811958, 0.5410077 , 1.99934242, 1.187419  , 1.77218665,\n",
       "       1.15082654, 1.69530542, 0.52773651, 1.13888909, 0.8613628 ,\n",
       "       1.79006015, 0.5204557 , 1.81368631, 0.87975582, 1.10249364,\n",
       "       0.72899345, 0.89788966, 0.77754837, 1.2987171 , 0.55311537,\n",
       "       1.16796614, 0.85979609, 1.28792434, 0.93885338, 0.5287535 ,\n",
       "       2.1338668 , 1.17500082, 2.37689523, 2.04977502, 1.25592749,\n",
       "       1.27044707, 0.6496535 , 1.12807132, 2.1358152 , 0.95837313,\n",
       "       1.08052668, 2.0417631 , 0.95836062, 2.12704843, 0.66273488,\n",
       "       0.85279613, 1.1648959 , 0.65046015, 1.00248765, 2.29172871,\n",
       "       1.28471652, 0.90210791, 1.90789784, 2.04920599, 1.07412981])"
      ]
     },
     "execution_count": 18,
     "metadata": {},
     "output_type": "execute_result"
    }
   ],
   "source": [
    "weights = np.array([1., 2., 1., 1., 1.])\n",
    "\n",
    "prediction = predict_output(X_train, weights)\n",
    "prediction"
   ]
  },
  {
   "cell_type": "markdown",
   "metadata": {},
   "source": [
    "Compute the values of ro[i] for each feature in this simple model, using the formula given above, using the formula:\n",
    "\n",
    "ro[i] = SUM[ [feature_i]*(output - prediction + w[i]*[feature_i]) ]"
   ]
  },
  {
   "cell_type": "code",
   "execution_count": 19,
   "metadata": {},
   "outputs": [],
   "source": [
    "def calculate_ro(num_features, feature_matrix,output,prediction, weights):\n",
    "    for i in range(num_features):\n",
    "        ro_i = (feature_matrix[:,i]*(output - prediction+ weights[i]*feature_matrix[:,i])).sum()\n",
    "        #ro_arr.append(ro_i)\n",
    "        print (ro_i)\n",
    "        print (i)\n",
    "    return 0"
   ]
  },
  {
   "cell_type": "code",
   "execution_count": 20,
   "metadata": {},
   "outputs": [
    {
     "name": "stdout",
     "output_type": "stream",
     "text": [
      "16746.76814407907\n",
      "0\n",
      "13093.084983762517\n",
      "1\n",
      "43196.92152239164\n",
      "2\n",
      "0.0\n",
      "3\n",
      "54758.44405333633\n",
      "4\n"
     ]
    },
    {
     "data": {
      "text/plain": [
       "0"
      ]
     },
     "execution_count": 20,
     "metadata": {},
     "output_type": "execute_result"
    }
   ],
   "source": [
    "ro = calculate_ro(5, X_train,y_train,prediction, weights)\n",
    "ro"
   ]
  },
  {
   "cell_type": "code",
   "execution_count": 21,
   "metadata": {},
   "outputs": [
    {
     "name": "stdout",
     "output_type": "stream",
     "text": [
      "(70, 5) (70, 1) (30, 5) (30, 1)\n",
      "<class 'numpy.ndarray'>\n"
     ]
    }
   ],
   "source": [
    "print(X_train.shape, y_train.shape, X_test.shape, y_test.shape)\n",
    "print(type(X_train))"
   ]
  },
  {
   "cell_type": "code",
   "execution_count": 22,
   "metadata": {},
   "outputs": [],
   "source": [
    "# def lasso_coordinate_descent_step(num_features, feature_matrix, output, weights, l1_penalty):\n",
    "#     prediction = predict_output(feature_matrix, weights)\n",
    "    \n",
    "#     for i in range(num_features+1):\n",
    "        \n",
    "#         ro_i = (feature_matrix[:i]*(output - prediction + weights[i]*feature_matrix[:i])).sum()\n",
    "#         if i==0 :\n",
    "#             new_weight_i = ro_i\n",
    "#         elif ro_i < -l1_penalty/2.:\n",
    "#             new_weight_i = (ro_i + (l1_penalty/2))\n",
    "#         elif ro_i > l1_penalty/2.:\n",
    "#             new_weight_i = (ro_i - (l1_penalty/2))\n",
    "#         else :\n",
    "#             new_weight_i = 0.\n",
    "#     return new_weight_i"
   ]
  },
  {
   "cell_type": "code",
   "execution_count": 23,
   "metadata": {},
   "outputs": [],
   "source": [
    "def lasso_coordinate_descent_step(num_features, feature_matrix, output, weights, l1_penalty):\n",
    "    # compute prediction\n",
    "    prediction = predict_output(feature_matrix, weights)\n",
    "    #z_i= (feature_matrix*feature_matrix).sum()\n",
    "\n",
    "    for i in range(num_features+1):\n",
    "    # compute ro[i] = SUM[ [feature_i]*(output - prediction + weight[i]*[feature_i]) ]\n",
    "        ro_i = (feature_matrix[:,i]*(output - prediction+weights[i]*feature_matrix[:,i])).sum()\n",
    "        if i == 0: # intercept -- do not regularize\n",
    "            new_weight_i = ro_i \n",
    "        elif ro_i < -l1_penalty/2.:\n",
    "            new_weight_i = (ro_i +(l1_penalty/2))\n",
    "        elif ro_i > l1_penalty/2.:\n",
    "            new_weight_i = (ro_i -(l1_penalty/2))\n",
    "        else:\n",
    "            new_weight_i = 0.\n",
    "    return new_weight_i"
   ]
  },
  {
   "cell_type": "code",
   "execution_count": 24,
   "metadata": {},
   "outputs": [
    {
     "name": "stdout",
     "output_type": "stream",
     "text": [
      "0.4255588466910251\n"
     ]
    }
   ],
   "source": [
    "# should print 0.425558846691\n",
    "import math\n",
    "print (lasso_coordinate_descent_step(1, np.array(([3./math.sqrt(13),1./math.sqrt(10)],[2./math.sqrt(13),3./math.sqrt(10)])),np.array([1., 1.]), np.array([1., 4.]), 0.1))\n"
   ]
  },
  {
   "cell_type": "markdown",
   "metadata": {},
   "source": [
    "# Cyclical coordinate descent\n",
    "하나의 가중치에 대해선 cost function을 optimize했으니, 이것을 반복해서\n",
    "가중치의 변화가 일정 threshold치 이하일 경우에는 가중치 변화를 멈출 것이다."
   ]
  },
  {
   "cell_type": "markdown",
   "metadata": {},
   "source": [
    "매 이터레이션마다의 다음과 같이 실행한다. <br>\n",
    "Loop over features in order and perform coordinate descent, measure how much each coordinate changes.\n",
    "After the loop, if the maximum change across all coordinates is falls below the tolerance, stop. Otherwise, go back to step 1.\n",
    "Return weights"
   ]
  },
  {
   "cell_type": "code",
   "execution_count": 25,
   "metadata": {},
   "outputs": [],
   "source": [
    "def lasso_cyclical_coordinate_descent(feature_matrix, output, initial_weights, \n",
    "                                      l1_penalty, tolerance):\n",
    "    condition = True\n",
    "    max_change=0\n",
    "    while (condition == True):  \n",
    "        max_change=0\n",
    "        for i in range (len(initial_weights)):\n",
    "            #max_change=0\n",
    "            old_weight_i= initial_weights[i]\n",
    "            initial_weights[i] =lasso_coordinate_descent_step(i,\n",
    "                                                      feature_matrix, output, \n",
    "                                                      initial_weights, l1_penalty)\n",
    "            coordinate_change = abs(old_weight_i - initial_weights[i])\n",
    "            if coordinate_change>max_change:\n",
    "                max_change = coordinate_change\n",
    "                print (max_change)\n",
    "        if (coordinate_change < tolerance):\n",
    "            condition = False\n",
    "    return initial_weights        \n"
   ]
  },
  {
   "cell_type": "markdown",
   "metadata": {},
   "source": [
    "argument값들을 정해주자.\n"
   ]
  },
  {
   "cell_type": "code",
   "execution_count": 35,
   "metadata": {},
   "outputs": [],
   "source": [
    "\n",
    "initial_weights = np.zeros(5) # constant의 1열을 포함한 feature column수로 줘야 한다.\n",
    "l1_penalty = 1e8\n",
    "tolerance = 1.0"
   ]
  },
  {
   "cell_type": "code",
   "execution_count": 36,
   "metadata": {},
   "outputs": [
    {
     "name": "stdout",
     "output_type": "stream",
     "text": [
      "17869.546841585274\n"
     ]
    },
    {
     "data": {
      "text/plain": [
       "array([17869.54684159,     0.        ,     0.        ,     0.        ,\n",
       "           0.        ])"
      ]
     },
     "execution_count": 36,
     "metadata": {},
     "output_type": "execute_result"
    }
   ],
   "source": [
    "weights = lasso_cyclical_coordinate_descent(X_train, y_train,\n",
    "                                            initial_weights, l1_penalty, tolerance)\n",
    "\n",
    "weights"
   ]
  },
  {
   "cell_type": "code",
   "execution_count": 37,
   "metadata": {},
   "outputs": [
    {
     "name": "stdout",
     "output_type": "stream",
     "text": [
      "128564307162.10153\n"
     ]
    }
   ],
   "source": [
    "prediction = predict_output(X_train, weights)\n",
    "\n",
    "rss_errors = (y_train - prediction)\n",
    "        # Then square and add them up\n",
    "rss_error_sq= rss_errors*rss_errors\n",
    "        #RSS = RSS_ + str(degree)\n",
    "RSS=rss_error_sq.sum()\n",
    "print (RSS)\n",
    "\n",
    "#rss_errors"
   ]
  },
  {
   "cell_type": "markdown",
   "metadata": {},
   "source": [
    "## Evaluating LASSO fit with more features"
   ]
  },
  {
   "cell_type": "code",
   "execution_count": null,
   "metadata": {},
   "outputs": [],
   "source": [
    "X, y = load_boston(return_X_y=True)\n",
    "\n",
    "X = pd.DataFrame(X)\n",
    "X['constant']=1\n",
    "\n",
    "y = pd.DataFrame(y)\n",
    "\n",
    "X_train, X_test, y_train, y_test = train_test_split(X, y, test_size = 0.3)\n",
    "\n",
    "\n"
   ]
  },
  {
   "cell_type": "code",
   "execution_count": null,
   "metadata": {},
   "outputs": [],
   "source": [
    "scaler_2 = preprocessing.MinMaxScaler().fit(X_train)\n",
    "print(scaler_2.mean_)                                      \n",
    "print(scaler_2.scale_)                                      \n",
    "\n",
    "X_train = pd.DataFrame(scaler.transform(X_train))\n",
    "print(X_train)\n",
    "\n",
    "X_test = pd.DataFrame(scaler.transform(X_test))\n",
    "\n",
    "\n",
    "# add constant\n",
    "\n",
    "X_train = X_train.to_numpy()\n",
    "\n",
    "y_train = y_train.to_numpy()\n",
    "\n",
    "\n",
    "X_test = X_test.to_numpy()\n",
    "\n",
    "y_test = y_test.to_numpy()"
   ]
  },
  {
   "cell_type": "code",
   "execution_count": null,
   "metadata": {},
   "outputs": [],
   "source": [
    "weights = np.array([1., 4., 1., 2.,3., 4., 1., 1., 1., 3., 1., 2., 1., 4. ])\n",
    "\n",
    "prediction = predict_output(X_train, weights)\n",
    "prediction"
   ]
  },
  {
   "cell_type": "code",
   "execution_count": null,
   "metadata": {},
   "outputs": [],
   "source": [
    "ro = calculate_ro(14, X_train,y_train,prediction, weights)\n",
    "ro"
   ]
  },
  {
   "cell_type": "code",
   "execution_count": null,
   "metadata": {},
   "outputs": [],
   "source": [
    "print(X_train.shape, y_train.shape, X_test.shape, y_test.shape)\n",
    "print(type(X_train))"
   ]
  },
  {
   "cell_type": "code",
   "execution_count": null,
   "metadata": {},
   "outputs": [],
   "source": [
    "initial_weights = np.zeros(14) # constant의 1열을 포함한 feature column수로 줘야 한다.\n",
    "l1_penalty =1e9\n",
    "tolerance = 1.0"
   ]
  },
  {
   "cell_type": "code",
   "execution_count": null,
   "metadata": {},
   "outputs": [],
   "source": [
    "weights = lasso_cyclical_coordinate_descent(X_train, y_train,\n",
    "                                            initial_weights, l1_penalty, tolerance)\n",
    "\n",
    "weights"
   ]
  },
  {
   "cell_type": "code",
   "execution_count": null,
   "metadata": {},
   "outputs": [],
   "source": [
    "prediction = predict_output(X_train, weights)\n",
    "\n",
    "rss_errors = (y_train - prediction)\n",
    "        # Then square and add them up\n",
    "rss_error_sq= rss_errors*rss_errors\n",
    "        #RSS = RSS_ + str(degree)\n",
    "RSS=rss_error_sq.sum()\n",
    "print (RSS)\n",
    "\n",
    "#rss_errors"
   ]
  },
  {
   "cell_type": "code",
   "execution_count": null,
   "metadata": {},
   "outputs": [],
   "source": []
  }
 ],
 "metadata": {
  "kernelspec": {
   "display_name": "Python 3",
   "language": "python",
   "name": "python3"
  },
  "language_info": {
   "codemirror_mode": {
    "name": "ipython",
    "version": 3
   },
   "file_extension": ".py",
   "mimetype": "text/x-python",
   "name": "python",
   "nbconvert_exporter": "python",
   "pygments_lexer": "ipython3",
   "version": "3.6.5"
  }
 },
 "nbformat": 4,
 "nbformat_minor": 2
}
